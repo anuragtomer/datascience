{
 "cells": [
  {
   "cell_type": "markdown",
   "metadata": {},
   "source": [
    "https://heartbeat.fritz.ai/serving-tensorflow-models-3989df5d7d53"
   ]
  },
  {
   "cell_type": "code",
   "execution_count": 1,
   "metadata": {
    "ExecuteTime": {
     "end_time": "2020-09-02T03:47:21.178091Z",
     "start_time": "2020-09-02T03:47:20.043592Z"
    }
   },
   "outputs": [],
   "source": [
    "from tensorflow.keras.applications.vgg16 import VGG16,preprocess_input,decode_predictions\n",
    "from tensorflow.keras.preprocessing import image\n",
    "import numpy as np"
   ]
  },
  {
   "cell_type": "code",
   "execution_count": 2,
   "metadata": {
    "ExecuteTime": {
     "end_time": "2020-09-02T03:47:23.518339Z",
     "start_time": "2020-09-02T03:47:22.145304Z"
    }
   },
   "outputs": [],
   "source": [
    "#Download prebuilt model for the purpose of this tutorial. This can be your built model.\n",
    "model = VGG16(weights='imagenet')"
   ]
  },
  {
   "cell_type": "code",
   "execution_count": 3,
   "metadata": {
    "ExecuteTime": {
     "end_time": "2020-09-02T03:47:24.552088Z",
     "start_time": "2020-09-02T03:47:24.541454Z"
    }
   },
   "outputs": [],
   "source": [
    "img_path = 'lion.jpg'\n",
    "img = image.load_img(img_path, target_size=(224,224))\n",
    "x = image.img_to_array(img)\n",
    "x = np.expand_dims(x, axis=0)\n",
    "x = preprocess_input(x)"
   ]
  },
  {
   "cell_type": "code",
   "execution_count": 4,
   "metadata": {
    "ExecuteTime": {
     "end_time": "2020-09-02T03:47:26.220185Z",
     "start_time": "2020-09-02T03:47:25.965401Z"
    }
   },
   "outputs": [
    {
     "name": "stdout",
     "output_type": "stream",
     "text": [
      "Predicted: [('n02129165', 'lion', 0.9999496), ('n02410509', 'bison', 3.3530352e-05), ('n02125311', 'cougar', 3.9551064e-06)]\n"
     ]
    }
   ],
   "source": [
    "preds = model.predict(x)\n",
    "print('Predicted:', decode_predictions(preds, top=3)[0])"
   ]
  },
  {
   "cell_type": "code",
   "execution_count": 5,
   "metadata": {
    "ExecuteTime": {
     "end_time": "2020-09-02T03:47:30.176727Z",
     "start_time": "2020-09-02T03:47:28.584014Z"
    }
   },
   "outputs": [
    {
     "name": "stdout",
     "output_type": "stream",
     "text": [
      "WARNING:tensorflow:From /home/anurag/venv/lib/python3.6/site-packages/tensorflow/python/training/tracking/tracking.py:111: Model.state_updates (from tensorflow.python.keras.engine.training) is deprecated and will be removed in a future version.\n",
      "Instructions for updating:\n",
      "This property should not be used in TensorFlow 2.0, as updates are applied automatically.\n",
      "WARNING:tensorflow:From /home/anurag/venv/lib/python3.6/site-packages/tensorflow/python/training/tracking/tracking.py:111: Layer.updates (from tensorflow.python.keras.engine.base_layer) is deprecated and will be removed in a future version.\n",
      "Instructions for updating:\n",
      "This property should not be used in TensorFlow 2.0, as updates are applied automatically.\n",
      "INFO:tensorflow:Assets written to: vgg16/1/assets\n"
     ]
    }
   ],
   "source": [
    "model.save('vgg16/1')"
   ]
  },
  {
   "cell_type": "markdown",
   "metadata": {
    "ExecuteTime": {
     "end_time": "2020-09-02T03:29:20.938183Z",
     "start_time": "2020-09-02T03:29:20.800879Z"
    }
   },
   "source": [
    "Setup config file now."
   ]
  },
  {
   "cell_type": "raw",
   "metadata": {},
   "source": [
    "models.config\n",
    "=============\n",
    "model_config_list:{\n",
    "    config:{\n",
    "        name: \"vgg16\",\n",
    "        base_path: \"/code/datascience/vgg16\",\n",
    "        model_platform:\"tensorflow\",\n",
    "        model_version_policy{\n",
    "            specific{\n",
    "                versions : 1\n",
    "            }\n",
    "        }\n",
    "    }\n",
    "}"
   ]
  },
  {
   "cell_type": "raw",
   "metadata": {},
   "source": [
    "Run this at your terminal to run the server.\n",
    "\n",
    "tensorflow_model_server -rest_api_port=8000 -model_config_file=models.config -model_config_file_poll_wait_seconds=300"
   ]
  },
  {
   "cell_type": "markdown",
   "metadata": {},
   "source": [
    "REST API is should be accessible here now.\n",
    "http://localhost:8000/v1/models/vgg16/versions/1:predict"
   ]
  },
  {
   "cell_type": "markdown",
   "metadata": {},
   "source": [
    "To make requests, do the following"
   ]
  },
  {
   "cell_type": "code",
   "execution_count": 6,
   "metadata": {
    "ExecuteTime": {
     "end_time": "2020-09-02T03:48:24.663018Z",
     "start_time": "2020-09-02T03:48:24.657474Z"
    }
   },
   "outputs": [],
   "source": [
    "import json\n",
    "import requests"
   ]
  },
  {
   "cell_type": "code",
   "execution_count": 7,
   "metadata": {
    "ExecuteTime": {
     "end_time": "2020-09-02T03:48:25.731214Z",
     "start_time": "2020-09-02T03:48:25.402052Z"
    }
   },
   "outputs": [
    {
     "name": "stdout",
     "output_type": "stream",
     "text": [
      "Predicted: [('n02129165', 'lion', 0.9999496), ('n02410509', 'bison', 3.3530352e-05), ('n02125311', 'cougar', 3.9551064e-06)]\n"
     ]
    }
   ],
   "source": [
    "data = json.dumps({\"instances\": x.tolist()})\n",
    "headers = {\"content-type\":\"application/json\"}\n",
    "json_response = requests.post('http://localhost:8000/v1/models/vgg16/versions/1:predict',\n",
    "                              data=data,\n",
    "                              headers=headers)\n",
    "predictions = json.loads(json_response.text)\n",
    "print('Predicted:', decode_predictions(preds, top=3)[0])"
   ]
  },
  {
   "cell_type": "markdown",
   "metadata": {},
   "source": [
    "To serve using Docker is even simpler\n",
    "\n",
    "NOTE: Not tested below part. Might be buggy."
   ]
  },
  {
   "cell_type": "raw",
   "metadata": {},
   "source": [
    "docker pull tensorflow/serving"
   ]
  },
  {
   "cell_type": "raw",
   "metadata": {},
   "source": [
    "docker run -p 8501:8501 --name tf_vgg_server --mount type=bind,source=/code/datascience/vgg16/,target=/models/vgg16  -e MODEL_NAME=vgg16 -t tensorflow/serving &"
   ]
  },
  {
   "cell_type": "code",
   "execution_count": null,
   "metadata": {},
   "outputs": [],
   "source": [
    "# And make a query just like before with new endpoints\n",
    "json_response = requests.post('http://127.0.0.1:8501/v1/models/vgg16:predict',\n",
    "                              data=data,\n",
    "                              headers=headers)\n",
    "\n",
    "predictions = json.loads(json_response.text)\n",
    "print('Predicted:', decode_predictions(preds, top=3)[0])"
   ]
  }
 ],
 "metadata": {
  "kernelspec": {
   "display_name": "Python 3",
   "language": "python",
   "name": "python3"
  },
  "language_info": {
   "codemirror_mode": {
    "name": "ipython",
    "version": 3
   },
   "file_extension": ".py",
   "mimetype": "text/x-python",
   "name": "python",
   "nbconvert_exporter": "python",
   "pygments_lexer": "ipython3",
   "version": "3.6.9"
  }
 },
 "nbformat": 4,
 "nbformat_minor": 4
}
