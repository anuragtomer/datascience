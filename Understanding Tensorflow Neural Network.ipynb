{
 "cells": [
  {
   "cell_type": "markdown",
   "metadata": {},
   "source": [
    "https://medium.com/free-code-camp/big-picture-machine-learning-classifying-text-with-neural-networks-and-tensorflow-d94036ac2274"
   ]
  },
  {
   "cell_type": "code",
   "execution_count": null,
   "metadata": {
    "ExecuteTime": {
     "end_time": "2020-08-19T11:34:58.607208Z",
     "start_time": "2020-08-19T11:34:57.411412Z"
    }
   },
   "outputs": [],
   "source": [
    "import pandas as pd\n",
    "import numpy as np\n",
    "import tensorflow as tf\n",
    "from collections import Counter\n",
    "from sklearn.datasets import fetch_20newsgroups"
   ]
  },
  {
   "cell_type": "code",
   "execution_count": null,
   "metadata": {
    "ExecuteTime": {
     "end_time": "2020-08-19T11:34:58.647525Z",
     "start_time": "2020-08-19T11:34:58.608643Z"
    }
   },
   "outputs": [],
   "source": [
    "import tensorflow.compat.v1 as tf\n",
    "tf.disable_v2_behavior() "
   ]
  },
  {
   "cell_type": "code",
   "execution_count": null,
   "metadata": {
    "ExecuteTime": {
     "end_time": "2020-08-19T11:34:58.683739Z",
     "start_time": "2020-08-19T11:34:58.648615Z"
    }
   },
   "outputs": [],
   "source": [
    "my_graph = tf.Graph()\n",
    "with tf.compat.v1.Session()  as sess:\n",
    "    x = tf.constant([1,3,6])\n",
    "    y = tf.constant([1,1,1])\n",
    "    op = tf.add(x,y)\n",
    "    result = sess.run(fetches=op)\n",
    "    print(result)"
   ]
  },
  {
   "cell_type": "code",
   "execution_count": null,
   "metadata": {
    "ExecuteTime": {
     "end_time": "2020-08-19T11:34:58.687752Z",
     "start_time": "2020-08-19T11:34:58.684804Z"
    }
   },
   "outputs": [],
   "source": [
    "vocab = Counter()\n",
    "text = \"Hi from someone\"\n",
    "for word in text.split(' '):\n",
    "    word_lowercase = word.lower()\n",
    "    vocab[word_lowercase] += 1\n",
    "\n",
    "def get_word_2_index(vocab):\n",
    "    word2index = {}\n",
    "    for i, word in enumerate(vocab):\n",
    "        word2index[word] = i\n",
    "    \n",
    "    return word2index"
   ]
  },
  {
   "cell_type": "code",
   "execution_count": null,
   "metadata": {
    "ExecuteTime": {
     "end_time": "2020-08-19T11:34:58.698197Z",
     "start_time": "2020-08-19T11:34:58.688579Z"
    }
   },
   "outputs": [],
   "source": [
    "word2index = get_word_2_index(vocab)\n",
    "total_words = len(vocab)\n",
    "matrix = np.zeros((total_words), dtype = float)\n",
    "\n",
    "for word in text.split():\n",
    "    matrix[word2index[word.lower()]] += 1\n",
    "\n",
    "print(\"Hi from someone:\", matrix)"
   ]
  },
  {
   "cell_type": "code",
   "execution_count": null,
   "metadata": {
    "ExecuteTime": {
     "end_time": "2020-08-19T11:34:58.704739Z",
     "start_time": "2020-08-19T11:34:58.699028Z"
    }
   },
   "outputs": [],
   "source": [
    "matrix = np.zeros((total_words), dtype = float)\n",
    "text = \"Hi\"\n",
    "for word in text.split():\n",
    "    matrix[word2index[word.lower()]] += 1\n",
    "print(\"Hi:\", matrix)"
   ]
  },
  {
   "cell_type": "code",
   "execution_count": null,
   "metadata": {
    "ExecuteTime": {
     "end_time": "2020-08-19T11:34:59.076843Z",
     "start_time": "2020-08-19T11:34:58.706085Z"
    }
   },
   "outputs": [],
   "source": [
    "categories = ['comp.graphics', 'sci.space','rec.sport.baseball']\n",
    "newsgroups_train = fetch_20newsgroups(subset = 'train', categories = categories)\n",
    "newsgroups_test = fetch_20newsgroups(subset = 'test', categories = categories)"
   ]
  },
  {
   "cell_type": "code",
   "execution_count": null,
   "metadata": {
    "ExecuteTime": {
     "end_time": "2020-08-19T11:34:59.080718Z",
     "start_time": "2020-08-19T11:34:59.078211Z"
    }
   },
   "outputs": [],
   "source": [
    "print('Total text in train:', len(newsgroups_train.data))\n",
    "print('Total text in test:', len(newsgroups_test.data))"
   ]
  },
  {
   "cell_type": "code",
   "execution_count": null,
   "metadata": {
    "ExecuteTime": {
     "end_time": "2020-08-19T11:34:59.089665Z",
     "start_time": "2020-08-19T11:34:59.081533Z"
    }
   },
   "outputs": [],
   "source": [
    "print('text', newsgroups_train.data[0])\n",
    "print('category:', newsgroups_train.target[0])"
   ]
  },
  {
   "cell_type": "code",
   "execution_count": null,
   "metadata": {
    "ExecuteTime": {
     "end_time": "2020-08-19T11:34:59.372863Z",
     "start_time": "2020-08-19T11:34:59.090467Z"
    }
   },
   "outputs": [],
   "source": [
    "vocab = Counter()\n",
    "\n",
    "for text in newsgroups_train.data:\n",
    "    for word in text.split(' '):\n",
    "        vocab[word.lower()] += 1\n",
    "\n",
    "for text in newsgroups_test.data:\n",
    "    for word in text.split(' '):\n",
    "        vocab[word.lower()] += 1"
   ]
  },
  {
   "cell_type": "code",
   "execution_count": null,
   "metadata": {
    "ExecuteTime": {
     "end_time": "2020-08-19T11:34:59.376146Z",
     "start_time": "2020-08-19T11:34:59.373883Z"
    }
   },
   "outputs": [],
   "source": [
    "print('Total words:', len(vocab))"
   ]
  },
  {
   "cell_type": "code",
   "execution_count": null,
   "metadata": {
    "ExecuteTime": {
     "end_time": "2020-08-19T11:34:59.407482Z",
     "start_time": "2020-08-19T11:34:59.377035Z"
    }
   },
   "outputs": [],
   "source": [
    "total_words = len(vocab)\n",
    "\n",
    "def get_word_2_index(vocab):\n",
    "    word2index = {}\n",
    "    for i, word in enumerate(vocab):\n",
    "        word2index[word.lower()] = i\n",
    "    return word2index\n",
    "word2index = get_word_2_index(vocab)\n",
    "\n",
    "print(\"Index of the word 'the':\", word2index['the'])"
   ]
  },
  {
   "cell_type": "code",
   "execution_count": null,
   "metadata": {
    "ExecuteTime": {
     "end_time": "2020-08-19T11:34:59.413243Z",
     "start_time": "2020-08-19T11:34:59.408603Z"
    }
   },
   "outputs": [],
   "source": [
    "def text_to_vector(text):\n",
    "    layer = np.zeros(total_words, dtype = float)\n",
    "    for word in text.split(' '):\n",
    "        layer[word2index[word.lower()]] += 1\n",
    "    return layer\n",
    "\n",
    "def category_to_vector(category):\n",
    "    y = np.zeros((3), dtype = float)\n",
    "    if category == 0:\n",
    "        y[0] = 1.\n",
    "    elif category == 1:\n",
    "        y[1] == 1.\n",
    "    else:\n",
    "        y[2] = 1.\n",
    "    return y"
   ]
  },
  {
   "cell_type": "code",
   "execution_count": null,
   "metadata": {
    "ExecuteTime": {
     "end_time": "2020-08-19T11:34:59.421615Z",
     "start_time": "2020-08-19T11:34:59.414350Z"
    }
   },
   "outputs": [],
   "source": [
    "def get_batch(df, i, batch_size):\n",
    "    batches = []\n",
    "    results = []\n",
    "    texts = df.data[i * batch_size: i * batch_size + batch_size]\n",
    "    categories = df.target[i * batch_size: i * batch_size + batch_size]\n",
    "    \n",
    "    for text in texts:\n",
    "        layer = text_to_vector(text)\n",
    "        batches.append(layer)\n",
    "    \n",
    "    for category in categories:\n",
    "        y = category_to_vector(category)\n",
    "        results.append(y)\n",
    "    return np.array(batches), np.array(results)"
   ]
  },
  {
   "cell_type": "code",
   "execution_count": null,
   "metadata": {
    "ExecuteTime": {
     "end_time": "2020-08-19T11:34:59.468349Z",
     "start_time": "2020-08-19T11:34:59.422511Z"
    }
   },
   "outputs": [],
   "source": [
    "print(\"Each batch has 100 texts and each matrix has 119930 \"\n",
    "      \"elements (word):\", \n",
    "      get_batch(newsgroups_train, 1, 100)[0].shape)"
   ]
  },
  {
   "cell_type": "code",
   "execution_count": null,
   "metadata": {
    "ExecuteTime": {
     "end_time": "2020-08-19T11:34:59.511393Z",
     "start_time": "2020-08-19T11:34:59.469254Z"
    }
   },
   "outputs": [],
   "source": [
    "print(\"Each batch has 100 labels and each matrix has 3\"\n",
    "      \"elements (3 categories):\", \n",
    "      get_batch(newsgroups_train, 1, 100)[1].shape)"
   ]
  },
  {
   "cell_type": "code",
   "execution_count": null,
   "metadata": {
    "ExecuteTime": {
     "end_time": "2020-08-19T11:47:10.935477Z",
     "start_time": "2020-08-19T11:47:10.930459Z"
    }
   },
   "outputs": [],
   "source": [
    "learning_rate =0.001\n",
    "training_epochs = 50\n",
    "batch_size = 150\n",
    "display_step = 1\n",
    "\n",
    "n_hidden_1 = 100\n",
    "n_hidden_2 = 100\n",
    "n_input = total_words\n",
    "n_classes = 3"
   ]
  },
  {
   "cell_type": "code",
   "execution_count": null,
   "metadata": {
    "ExecuteTime": {
     "end_time": "2020-08-19T11:47:11.097484Z",
     "start_time": "2020-08-19T11:47:11.091348Z"
    }
   },
   "outputs": [],
   "source": [
    "input_tensor = tf.placeholder(tf.float32, [None, n_input], name='input')\n",
    "output_tensor = tf.placeholder(tf.float32, [None, n_classes], name='output')"
   ]
  },
  {
   "cell_type": "code",
   "execution_count": null,
   "metadata": {
    "ExecuteTime": {
     "end_time": "2020-08-19T11:47:11.283973Z",
     "start_time": "2020-08-19T11:47:11.271582Z"
    }
   },
   "outputs": [],
   "source": [
    "def multilayer_perceptron(input_tensor, weights, biases):\n",
    "    layer_1_multiplication = tf.matmul(input_tensor, weights['h1'])\n",
    "    layer_1_addition = tf.add(layer_1_multiplication, biases['b1'])\n",
    "    layer_1 = tf.nn.relu(layer_1_addition)\n",
    "    \n",
    "    layer_2_multiplication = tf.matmul(layer_1, weights['h2'])\n",
    "    layer_2_addition = tf.add(layer_2_multiplication, biases['b2'])\n",
    "    layer_2 = tf.nn.relu(layer_2_addition)\n",
    "    \n",
    "    out_layer_multiplication = tf.matmul(layer_2, weights['out'])\n",
    "    out_layer_addition = out_layer_multiplication + biases['out']\n",
    "    \n",
    "    return out_layer_addition"
   ]
  },
  {
   "cell_type": "code",
   "execution_count": null,
   "metadata": {
    "ExecuteTime": {
     "end_time": "2020-08-19T11:47:11.565519Z",
     "start_time": "2020-08-19T11:47:11.440663Z"
    }
   },
   "outputs": [],
   "source": [
    "weights = {\n",
    "    'h1': tf.Variable(tf.random.normal([n_input, n_hidden_1])),\n",
    "    'h2': tf.Variable(tf.random.normal([n_hidden_1, n_hidden_2])),\n",
    "    'out': tf.Variable(tf.random.normal([n_hidden_2, n_classes]))\n",
    "}\n",
    "biases = {\n",
    "    'b1': tf.Variable(tf.random.normal([n_hidden_1])),\n",
    "    'b2': tf.Variable(tf.random.normal([n_hidden_2])),\n",
    "    'out': tf.Variable(tf.random.normal([n_classes]))\n",
    "}\n",
    "\n",
    "prediction = multilayer_perceptron(input_tensor, weights, biases)\n",
    "\n",
    "loss = tf.reduce_mean(tf.nn.softmax_cross_entropy_with_logits(logits = prediction, labels = output_tensor))\n",
    "\n",
    "optimizer = tf.train.AdamOptimizer(learning_rate = learning_rate).minimize(loss)\n",
    "\n",
    "init = tf.global_variables_initializer()\n",
    "\n",
    "saver = tf.train.Saver()\n",
    "\n"
   ]
  },
  {
   "cell_type": "code",
   "execution_count": null,
   "metadata": {
    "ExecuteTime": {
     "end_time": "2020-08-19T11:53:49.394355Z",
     "start_time": "2020-08-19T11:52:34.431944Z"
    }
   },
   "outputs": [],
   "source": [
    "training_epochs = 50\n",
    "with tf.Session() as sess:\n",
    "    sess.run(init)\n",
    "    \n",
    "    for epoch in range(training_epochs):\n",
    "        avg_cost = 0.\n",
    "        total_batch = int(len(newsgroups_train.data)/batch_size)\n",
    "        \n",
    "        for i in range(total_batch):\n",
    "            batch_x, batch_y = get_batch(newsgroups_train, i, batch_size)\n",
    "            c, _ = sess.run([loss, optimizer], feed_dict={input_tensor: batch_x, output_tensor:batch_y})\n",
    "            avg_cost += c / total_batch\n",
    "            if avg_cost < 0.5:\n",
    "                epoch = training_epochs\n",
    "                break\n",
    "        if epoch % display_step == 0:\n",
    "            print(\"Epoch:\", '%04d' % (epoch+1), \"loss=\", \"{:0.9f}\".format(avg_cost))\n",
    "    \n",
    "    print(\"Optimization Finished!\")\n",
    "    \n",
    "    correct_prediction = tf.equal(tf.argmax(prediction, 1), tf.argmax(output_tensor, 1))\n",
    "    accuracy = tf.reduce_mean(tf.cast(correct_prediction, \"float\"))\n",
    "    total_test_data = len(newsgroups_test.target)\n",
    "    batch_x_test, batch_y_test = get_batch(newsgroups_test, 0, total_test_data)\n",
    "    print(\"Accuracy:\", accuracy.eval({input_tensor: batch_x_test, output_tensor: batch_y_test}))\n",
    "    \n",
    "    save_path = saver.save(sess, \"/tmp/model.ckpt\")\n",
    "    print(\"Model saved in path: %s\" % save_path)"
   ]
  },
  {
   "cell_type": "code",
   "execution_count": null,
   "metadata": {
    "ExecuteTime": {
     "end_time": "2020-08-19T11:53:49.398117Z",
     "start_time": "2020-08-19T11:53:49.395641Z"
    }
   },
   "outputs": [],
   "source": [
    "text_for_prediction = newsgroups_test.data[5]\n",
    "print('text:', text_for_prediction)"
   ]
  },
  {
   "cell_type": "code",
   "execution_count": null,
   "metadata": {
    "ExecuteTime": {
     "end_time": "2020-08-19T11:53:49.411245Z",
     "start_time": "2020-08-19T11:53:49.399262Z"
    }
   },
   "outputs": [],
   "source": [
    "print(\"text correct category:\", newsgroups_test.target[5])"
   ]
  },
  {
   "cell_type": "code",
   "execution_count": null,
   "metadata": {
    "ExecuteTime": {
     "end_time": "2020-08-19T11:53:49.417949Z",
     "start_time": "2020-08-19T11:53:49.412297Z"
    }
   },
   "outputs": [],
   "source": [
    "vector_txt = text_to_vector(text)\n",
    "input_array = np.array([vector_txt])"
   ]
  },
  {
   "cell_type": "code",
   "execution_count": null,
   "metadata": {
    "ExecuteTime": {
     "end_time": "2020-08-19T11:53:49.428418Z",
     "start_time": "2020-08-19T11:53:49.418863Z"
    }
   },
   "outputs": [],
   "source": [
    "input_array.shape"
   ]
  },
  {
   "cell_type": "code",
   "execution_count": null,
   "metadata": {
    "ExecuteTime": {
     "end_time": "2020-08-19T11:53:49.885856Z",
     "start_time": "2020-08-19T11:53:49.430843Z"
    }
   },
   "outputs": [],
   "source": [
    "saver = tf.train.Saver()\n",
    "\n",
    "with tf.Session() as sess:\n",
    "    saver.restore(sess, \"/tmp/model.ckpt\")\n",
    "    print('Model restored.')\n",
    "    \n",
    "    classification = sess.run(tf.argmax(prediction, 1), feed_dict={input_tensor: input_array})\n",
    "    print('Predicted category:', classification)"
   ]
  },
  {
   "cell_type": "code",
   "execution_count": null,
   "metadata": {
    "ExecuteTime": {
     "end_time": "2020-08-19T11:53:50.430270Z",
     "start_time": "2020-08-19T11:53:49.887538Z"
    }
   },
   "outputs": [],
   "source": [
    "x_10_texts,y_10_correct_labels = get_batch(newsgroups_test,0,10)\n",
    "\n",
    "saver = tf.train.Saver()\n",
    "\n",
    "with tf.Session() as sess:\n",
    "    saver.restore(sess, \"/tmp/model.ckpt\")\n",
    "    print(\"Model restored.\")\n",
    "    \n",
    "    classification = sess.run(tf.argmax(prediction, 1), feed_dict={input_tensor: x_10_texts})\n",
    "    print(\"Predicted categories:\", classification)"
   ]
  },
  {
   "cell_type": "code",
   "execution_count": null,
   "metadata": {
    "ExecuteTime": {
     "end_time": "2020-08-19T11:53:50.437386Z",
     "start_time": "2020-08-19T11:53:50.434051Z"
    }
   },
   "outputs": [],
   "source": [
    "print(np.argmax(y_10_correct_labels, 1))"
   ]
  },
  {
   "cell_type": "code",
   "execution_count": null,
   "metadata": {},
   "outputs": [],
   "source": []
  }
 ],
 "metadata": {
  "kernelspec": {
   "display_name": "Python 3",
   "language": "python",
   "name": "python3"
  },
  "language_info": {
   "codemirror_mode": {
    "name": "ipython",
    "version": 3
   },
   "file_extension": ".py",
   "mimetype": "text/x-python",
   "name": "python",
   "nbconvert_exporter": "python",
   "pygments_lexer": "ipython3",
   "version": "3.7.7"
  }
 },
 "nbformat": 4,
 "nbformat_minor": 4
}
