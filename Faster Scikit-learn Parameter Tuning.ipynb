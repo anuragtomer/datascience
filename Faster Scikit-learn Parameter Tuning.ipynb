{
 "cells": [
  {
   "cell_type": "markdown",
   "metadata": {
    "ExecuteTime": {
     "end_time": "2020-08-24T02:14:59.415674Z",
     "start_time": "2020-08-24T02:14:59.410123Z"
    }
   },
   "source": [
    "https://towardsdatascience.com/5x-faster-scikit-learn-parameter-tuning-in-5-lines-of-code-be6bdd21833c"
   ]
  },
  {
   "cell_type": "code",
   "execution_count": 1,
   "metadata": {
    "ExecuteTime": {
     "end_time": "2020-08-24T05:35:29.428778Z",
     "start_time": "2020-08-24T05:35:29.417751Z"
    }
   },
   "outputs": [],
   "source": [
    "%load_ext autoreload\n",
    "%autoreload 2"
   ]
  },
  {
   "cell_type": "code",
   "execution_count": 2,
   "metadata": {
    "ExecuteTime": {
     "end_time": "2020-08-24T05:35:30.102353Z",
     "start_time": "2020-08-24T05:35:29.429758Z"
    }
   },
   "outputs": [],
   "source": [
    "from tune_sklearn import TuneGridSearchCV"
   ]
  },
  {
   "cell_type": "markdown",
   "metadata": {},
   "source": [
    "Dummy custom classification dataset and running SGDClassifier"
   ]
  },
  {
   "cell_type": "code",
   "execution_count": 3,
   "metadata": {
    "ExecuteTime": {
     "end_time": "2020-08-24T05:35:30.634176Z",
     "start_time": "2020-08-24T05:35:30.103585Z"
    }
   },
   "outputs": [],
   "source": [
    "import numpy as np\n",
    "from sklearn.datasets import make_classification\n",
    "from sklearn.model_selection import train_test_split\n",
    "from sklearn.linear_model import SGDClassifier\n",
    "X, y = make_classification(n_samples=11000, \n",
    "                           n_features=1000, \n",
    "                           n_informative=50, \n",
    "                           n_redundant=0, \n",
    "                           n_classes=10, \n",
    "                           class_sep=2.5)\n",
    "X_train, X_test, y_train, y_test = train_test_split(X, y, test_size=1000)\n",
    "parameters = {\n",
    "    'alpha': [1e-4, 1e-1, 1],\n",
    "    'epsilon': [0.01, 0.1]\n",
    "}"
   ]
  },
  {
   "cell_type": "code",
   "execution_count": 4,
   "metadata": {
    "ExecuteTime": {
     "end_time": "2020-08-24T05:35:44.574391Z",
     "start_time": "2020-08-24T05:35:30.635331Z"
    }
   },
   "outputs": [
    {
     "name": "stderr",
     "output_type": "stream",
     "text": [
      "/home/anurag/venv/lib/python3.6/site-packages/tune_sklearn/tune_basesearch.py:382: UserWarning: Hiding process output by default. To show process output, set verbose=2.\n",
      "  warnings.warn(\"Hiding process output by default. \"\n"
     ]
    },
    {
     "name": "stdout",
     "output_type": "stream",
     "text": [
      "Tune Fit Time: 13.91748595237732\n",
      "Tune Accuracy: 0.886\n"
     ]
    }
   ],
   "source": [
    "tune_search = TuneGridSearchCV(SGDClassifier(), \n",
    "                               parameters, \n",
    "                               early_stopping=True, \n",
    "                               max_iters=10)\n",
    "import time\n",
    "start = time.time()\n",
    "tune_search.fit(X_train, y_train)\n",
    "end = time.time()\n",
    "print(\"Tune Fit Time:\", end - start)\n",
    "pred = tune_search.predict(X_test)\n",
    "accuracy = np.count_nonzero(np.array(pred) == np.array(y_test)) / len(pred)\n",
    "print(\"Tune Accuracy:\", accuracy)"
   ]
  },
  {
   "cell_type": "markdown",
   "metadata": {},
   "source": [
    "Comparing TuneGridSearchCV with GridSearchCV of sklearn"
   ]
  },
  {
   "cell_type": "code",
   "execution_count": 5,
   "metadata": {
    "ExecuteTime": {
     "end_time": "2020-08-24T05:36:36.160945Z",
     "start_time": "2020-08-24T05:35:44.579824Z"
    }
   },
   "outputs": [
    {
     "name": "stdout",
     "output_type": "stream",
     "text": [
      "Sklearn fit time: 51.54976415634155\n",
      "Accuracy: 0.881\n"
     ]
    }
   ],
   "source": [
    "from sklearn.model_selection import GridSearchCV\n",
    "sklearn_search = GridSearchCV(SGDClassifier(),\n",
    "                             parameters,\n",
    "                             n_jobs=-1)\n",
    "start = time.time()\n",
    "sklearn_search.fit(X_train, y_train)\n",
    "end = time.time()\n",
    "print(\"Sklearn fit time:\", end - start)\n",
    "pred = sklearn_search.predict(X_test)\n",
    "accuracy = np.count_nonzero(np.array(pred) == np.array(y_test)) / len(pred)\n",
    "print(\"Accuracy:\", accuracy)"
   ]
  },
  {
   "cell_type": "markdown",
   "metadata": {},
   "source": [
    "Example for TuneSearchCV bayesian optimization"
   ]
  },
  {
   "cell_type": "code",
   "execution_count": 6,
   "metadata": {
    "ExecuteTime": {
     "end_time": "2020-08-24T05:36:49.522501Z",
     "start_time": "2020-08-24T05:36:36.162979Z"
    }
   },
   "outputs": [
    {
     "name": "stderr",
     "output_type": "stream",
     "text": [
      "/home/anurag/venv/lib/python3.6/site-packages/tune_sklearn/tune_basesearch.py:382: UserWarning: Hiding process output by default. To show process output, set verbose=2.\n",
      "  warnings.warn(\"Hiding process output by default. \"\n"
     ]
    },
    {
     "name": "stdout",
     "output_type": "stream",
     "text": [
      "{'alpha': 0.05918516832005342, 'epsilon': 0.013292858836067808}\n"
     ]
    }
   ],
   "source": [
    "from tune_sklearn import TuneSearchCV\n",
    "\n",
    "# Other imports\n",
    "import scipy\n",
    "from sklearn.datasets import make_classification\n",
    "from sklearn.model_selection import train_test_split\n",
    "from sklearn.linear_model import SGDClassifier\n",
    "\n",
    "# Set training and validation sets\n",
    "X, y = make_classification(n_samples=11000, n_features=1000, n_informative=50, \n",
    "                           n_redundant=0, n_classes=10, class_sep=2.5)\n",
    "X_train, X_test, y_train, y_test = train_test_split(X, y, test_size=1000)\n",
    "\n",
    "# Example parameter distributions to tune from SGDClassifier\n",
    "# Note the use of tuples instead if Bayesian optimization is desired\n",
    "param_dists = {\n",
    "   'alpha': (1e-4, 1e-1),\n",
    "   'epsilon': (1e-2, 1e-1)\n",
    "}\n",
    "\n",
    "tune_search = TuneSearchCV(SGDClassifier(),\n",
    "   param_distributions=param_dists,\n",
    "   n_iter=2,\n",
    "   early_stopping=True,\n",
    "   max_iters=10,\n",
    "   search_optimization=\"bayesian\"\n",
    ")\n",
    "\n",
    "tune_search.fit(X_train, y_train)\n",
    "print(tune_search.best_params_) "
   ]
  },
  {
   "cell_type": "markdown",
   "metadata": {},
   "source": [
    "More examples at https://github.com/ray-project/tune-sklearn"
   ]
  },
  {
   "cell_type": "code",
   "execution_count": null,
   "metadata": {},
   "outputs": [],
   "source": []
  }
 ],
 "metadata": {
  "kernelspec": {
   "display_name": "Python 3",
   "language": "python",
   "name": "python3"
  },
  "language_info": {
   "codemirror_mode": {
    "name": "ipython",
    "version": 3
   },
   "file_extension": ".py",
   "mimetype": "text/x-python",
   "name": "python",
   "nbconvert_exporter": "python",
   "pygments_lexer": "ipython3",
   "version": "3.6.9"
  }
 },
 "nbformat": 4,
 "nbformat_minor": 4
}
