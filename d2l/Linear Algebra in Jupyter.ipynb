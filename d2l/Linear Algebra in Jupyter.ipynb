{
 "cells": [
  {
   "cell_type": "code",
   "execution_count": 3,
   "metadata": {
    "ExecuteTime": {
     "end_time": "2020-09-01T09:59:44.608570Z",
     "start_time": "2020-09-01T09:59:43.593135Z"
    }
   },
   "outputs": [],
   "source": [
    "from mxnet import nd"
   ]
  },
  {
   "cell_type": "code",
   "execution_count": 4,
   "metadata": {
    "ExecuteTime": {
     "end_time": "2020-09-01T10:00:53.808456Z",
     "start_time": "2020-09-01T10:00:53.800704Z"
    }
   },
   "outputs": [
    {
     "name": "stdout",
     "output_type": "stream",
     "text": [
      "\n",
      "[5.]\n",
      "<NDArray 1 @cpu(0)>\n",
      "\n",
      "[6.]\n",
      "<NDArray 1 @cpu(0)>\n",
      "\n",
      "[1.5]\n",
      "<NDArray 1 @cpu(0)>\n",
      "\n",
      "[9.]\n",
      "<NDArray 1 @cpu(0)>\n"
     ]
    }
   ],
   "source": [
    "x = nd.array([3.0])\n",
    "y = nd.array([2.0])\n",
    "print(x+y)\n",
    "print(x*y)\n",
    "print(x/y)\n",
    "print(nd.power(x, y))"
   ]
  },
  {
   "cell_type": "code",
   "execution_count": 5,
   "metadata": {
    "ExecuteTime": {
     "end_time": "2020-09-01T10:05:22.473807Z",
     "start_time": "2020-09-01T10:05:22.466070Z"
    }
   },
   "outputs": [
    {
     "name": "stdout",
     "output_type": "stream",
     "text": [
      "\n",
      "[3.]\n",
      "<NDArray 1 @cpu(0)>\n"
     ]
    }
   ],
   "source": [
    "print(x)"
   ]
  },
  {
   "cell_type": "code",
   "execution_count": 7,
   "metadata": {
    "ExecuteTime": {
     "end_time": "2020-09-01T10:07:16.249344Z",
     "start_time": "2020-09-01T10:07:16.245346Z"
    }
   },
   "outputs": [
    {
     "name": "stdout",
     "output_type": "stream",
     "text": [
      "3.0\n"
     ]
    }
   ],
   "source": [
    "# Don't do this often. This basically halts any operation being done on \n",
    "# NDArray x because now python is taking over, which is bad in parallel \n",
    "# processing.\n",
    "print(x.asscalar())"
   ]
  },
  {
   "cell_type": "code",
   "execution_count": 8,
   "metadata": {
    "ExecuteTime": {
     "end_time": "2020-09-01T10:07:52.888283Z",
     "start_time": "2020-09-01T10:07:52.874740Z"
    }
   },
   "outputs": [
    {
     "data": {
      "text/plain": [
       "\n",
       "[0. 1. 2. 3. 4.]\n",
       "<NDArray 5 @cpu(0)>"
      ]
     },
     "execution_count": 8,
     "metadata": {},
     "output_type": "execute_result"
    }
   ],
   "source": [
    "x = nd.arange(5)\n",
    "x"
   ]
  },
  {
   "cell_type": "code",
   "execution_count": 9,
   "metadata": {
    "ExecuteTime": {
     "end_time": "2020-09-01T10:07:58.773201Z",
     "start_time": "2020-09-01T10:07:58.767299Z"
    }
   },
   "outputs": [
    {
     "data": {
      "text/plain": [
       "\n",
       "[3.]\n",
       "<NDArray 1 @cpu(0)>"
      ]
     },
     "execution_count": 9,
     "metadata": {},
     "output_type": "execute_result"
    }
   ],
   "source": [
    "x[3]"
   ]
  },
  {
   "cell_type": "code",
   "execution_count": 10,
   "metadata": {
    "ExecuteTime": {
     "end_time": "2020-09-01T10:08:32.732919Z",
     "start_time": "2020-09-01T10:08:32.728781Z"
    }
   },
   "outputs": [
    {
     "data": {
      "text/plain": [
       "(5,)"
      ]
     },
     "execution_count": 10,
     "metadata": {},
     "output_type": "execute_result"
    }
   ],
   "source": [
    "x.shape"
   ]
  },
  {
   "cell_type": "code",
   "execution_count": 11,
   "metadata": {
    "ExecuteTime": {
     "end_time": "2020-09-01T10:09:26.587669Z",
     "start_time": "2020-09-01T10:09:26.582372Z"
    }
   },
   "outputs": [
    {
     "data": {
      "text/plain": [
       "5"
      ]
     },
     "execution_count": 11,
     "metadata": {},
     "output_type": "execute_result"
    }
   ],
   "source": [
    "len(x)"
   ]
  },
  {
   "cell_type": "code",
   "execution_count": 13,
   "metadata": {
    "ExecuteTime": {
     "end_time": "2020-09-01T10:10:57.455804Z",
     "start_time": "2020-09-01T10:10:57.449014Z"
    }
   },
   "outputs": [
    {
     "name": "stdout",
     "output_type": "stream",
     "text": [
      "\n",
      "[2. 4. 6.]\n",
      "<NDArray 3 @cpu(0)>\n",
      "\n",
      "[12. 24. 36.]\n",
      "<NDArray 3 @cpu(0)>\n"
     ]
    }
   ],
   "source": [
    "# scalar multiplication, addition\n",
    "a = 2\n",
    "x = nd.array([1,2,3])\n",
    "y = nd.array([10,20,30])\n",
    "print(a*x)\n",
    "print(a*x + y)"
   ]
  },
  {
   "cell_type": "code",
   "execution_count": 14,
   "metadata": {
    "ExecuteTime": {
     "end_time": "2020-09-01T10:11:15.300053Z",
     "start_time": "2020-09-01T10:11:15.291274Z"
    }
   },
   "outputs": [
    {
     "name": "stdout",
     "output_type": "stream",
     "text": [
      "\n",
      "[0. 1. 2. 3. 4. 5. 6. 7. 8. 9.]\n",
      "<NDArray 10 @cpu(0)>\n"
     ]
    }
   ],
   "source": [
    "print(nd.arange(10))"
   ]
  },
  {
   "cell_type": "code",
   "execution_count": 15,
   "metadata": {
    "ExecuteTime": {
     "end_time": "2020-09-01T10:11:31.734127Z",
     "start_time": "2020-09-01T10:11:31.727747Z"
    }
   },
   "outputs": [
    {
     "data": {
      "text/plain": [
       "\n",
       "[[ 0.  1.]\n",
       " [ 2.  3.]\n",
       " [ 4.  5.]\n",
       " [ 6.  7.]\n",
       " [ 8.  9.]\n",
       " [10. 11.]\n",
       " [12. 13.]\n",
       " [14. 15.]\n",
       " [16. 17.]\n",
       " [18. 19.]]\n",
       "<NDArray 10x2 @cpu(0)>"
      ]
     },
     "execution_count": 15,
     "metadata": {},
     "output_type": "execute_result"
    }
   ],
   "source": [
    "A = nd.arange(20).reshape((10,2))\n",
    "A"
   ]
  },
  {
   "cell_type": "code",
   "execution_count": 16,
   "metadata": {
    "ExecuteTime": {
     "end_time": "2020-09-01T10:11:45.836618Z",
     "start_time": "2020-09-01T10:11:45.831523Z"
    }
   },
   "outputs": [],
   "source": [
    "A = nd.arange(20).reshape((2, 10))"
   ]
  },
  {
   "cell_type": "code",
   "execution_count": 17,
   "metadata": {
    "ExecuteTime": {
     "end_time": "2020-09-01T10:11:48.948170Z",
     "start_time": "2020-09-01T10:11:48.942252Z"
    }
   },
   "outputs": [
    {
     "data": {
      "text/plain": [
       "\n",
       "[[ 0.  1.  2.  3.  4.  5.  6.  7.  8.  9.]\n",
       " [10. 11. 12. 13. 14. 15. 16. 17. 18. 19.]]\n",
       "<NDArray 2x10 @cpu(0)>"
      ]
     },
     "execution_count": 17,
     "metadata": {},
     "output_type": "execute_result"
    }
   ],
   "source": [
    "A"
   ]
  },
  {
   "cell_type": "code",
   "execution_count": 18,
   "metadata": {
    "ExecuteTime": {
     "end_time": "2020-09-01T10:12:06.793663Z",
     "start_time": "2020-09-01T10:12:06.787743Z"
    }
   },
   "outputs": [
    {
     "data": {
      "text/plain": [
       "\n",
       "[[ 0. 10.]\n",
       " [ 1. 11.]\n",
       " [ 2. 12.]\n",
       " [ 3. 13.]\n",
       " [ 4. 14.]\n",
       " [ 5. 15.]\n",
       " [ 6. 16.]\n",
       " [ 7. 17.]\n",
       " [ 8. 18.]\n",
       " [ 9. 19.]]\n",
       "<NDArray 10x2 @cpu(0)>"
      ]
     },
     "execution_count": 18,
     "metadata": {},
     "output_type": "execute_result"
    }
   ],
   "source": [
    "A.T"
   ]
  },
  {
   "cell_type": "code",
   "execution_count": 19,
   "metadata": {
    "ExecuteTime": {
     "end_time": "2020-09-01T10:12:53.364583Z",
     "start_time": "2020-09-01T10:12:53.358708Z"
    }
   },
   "outputs": [
    {
     "name": "stdout",
     "output_type": "stream",
     "text": [
      "(2, 3, 4)\n",
      "\n",
      "[[[ 0.  1.  2.  3.]\n",
      "  [ 4.  5.  6.  7.]\n",
      "  [ 8.  9. 10. 11.]]\n",
      "\n",
      " [[12. 13. 14. 15.]\n",
      "  [16. 17. 18. 19.]\n",
      "  [20. 21. 22. 23.]]]\n",
      "<NDArray 2x3x4 @cpu(0)>\n"
     ]
    }
   ],
   "source": [
    "X = nd.arange(24).reshape((2,3,4))\n",
    "print(X.shape)\n",
    "print(X)"
   ]
  },
  {
   "cell_type": "code",
   "execution_count": 20,
   "metadata": {
    "ExecuteTime": {
     "end_time": "2020-09-01T10:13:43.006313Z",
     "start_time": "2020-09-01T10:13:43.002171Z"
    }
   },
   "outputs": [],
   "source": [
    "x = nd.ones(3)"
   ]
  },
  {
   "cell_type": "code",
   "execution_count": 21,
   "metadata": {
    "ExecuteTime": {
     "end_time": "2020-09-01T10:13:45.282007Z",
     "start_time": "2020-09-01T10:13:45.276497Z"
    }
   },
   "outputs": [
    {
     "data": {
      "text/plain": [
       "\n",
       "[1. 1. 1.]\n",
       "<NDArray 3 @cpu(0)>"
      ]
     },
     "execution_count": 21,
     "metadata": {},
     "output_type": "execute_result"
    }
   ],
   "source": [
    "x"
   ]
  },
  {
   "cell_type": "code",
   "execution_count": 22,
   "metadata": {
    "ExecuteTime": {
     "end_time": "2020-09-01T10:13:50.095061Z",
     "start_time": "2020-09-01T10:13:50.091033Z"
    }
   },
   "outputs": [
    {
     "name": "stdout",
     "output_type": "stream",
     "text": [
      "\n",
      "[3.]\n",
      "<NDArray 1 @cpu(0)>\n"
     ]
    }
   ],
   "source": [
    "print(nd.sum(x))"
   ]
  },
  {
   "cell_type": "code",
   "execution_count": 23,
   "metadata": {
    "ExecuteTime": {
     "end_time": "2020-09-01T10:14:52.470966Z",
     "start_time": "2020-09-01T10:14:52.461146Z"
    },
    "scrolled": true
   },
   "outputs": [
    {
     "name": "stdout",
     "output_type": "stream",
     "text": [
      "\n",
      "[[ 0.  1.  2.  3.]\n",
      " [ 4.  5.  6.  7.]\n",
      " [ 8.  9. 10. 11.]]\n",
      "<NDArray 3x4 @cpu(0)>\n",
      "\n",
      "[66.]\n",
      "<NDArray 1 @cpu(0)>\n"
     ]
    }
   ],
   "source": [
    "x = nd.arange(12).reshape((3,4))\n",
    "print(x)\n",
    "print(nd.sum(x))"
   ]
  },
  {
   "cell_type": "code",
   "execution_count": 32,
   "metadata": {
    "ExecuteTime": {
     "end_time": "2020-09-01T10:40:32.845600Z",
     "start_time": "2020-09-01T10:40:32.839088Z"
    }
   },
   "outputs": [
    {
     "name": "stdout",
     "output_type": "stream",
     "text": [
      "\n",
      "[[ 0.  1.  2.  3.]\n",
      " [ 4.  5.  6.  7.]\n",
      " [ 8.  9. 10. 11.]]\n",
      "<NDArray 3x4 @cpu(0)>\n",
      "\n",
      "[[ 0.  1.  2.  3.  4.  5.]\n",
      " [ 6.  7.  8.  9. 10. 11.]]\n",
      "<NDArray 2x6 @cpu(0)>\n"
     ]
    }
   ],
   "source": [
    "# Use -1 to fill in defaults\n",
    "x = nd.arange(12)\n",
    "print(x.reshape((3, -1))) # This would pick 4 as second index because x has a total of 12 elements.\n",
    "print(x.reshape((-1, 6))) # This would pick 2 as first index as x has total 12 elements and you requested 6 as second index"
   ]
  },
  {
   "cell_type": "code",
   "execution_count": 24,
   "metadata": {
    "ExecuteTime": {
     "end_time": "2020-09-01T10:15:11.706808Z",
     "start_time": "2020-09-01T10:15:11.698165Z"
    }
   },
   "outputs": [
    {
     "name": "stdout",
     "output_type": "stream",
     "text": [
      "\n",
      "[ 6. 22. 38.]\n",
      "<NDArray 3 @cpu(0)>\n"
     ]
    }
   ],
   "source": [
    "print(nd.sum(x, 1))"
   ]
  },
  {
   "cell_type": "code",
   "execution_count": 25,
   "metadata": {
    "ExecuteTime": {
     "end_time": "2020-09-01T10:15:38.013346Z",
     "start_time": "2020-09-01T10:15:38.007542Z"
    }
   },
   "outputs": [
    {
     "name": "stdout",
     "output_type": "stream",
     "text": [
      "\n",
      "[12. 15. 18. 21.]\n",
      "<NDArray 4 @cpu(0)>\n"
     ]
    }
   ],
   "source": [
    "print(nd.sum(x, 0))"
   ]
  },
  {
   "cell_type": "code",
   "execution_count": 26,
   "metadata": {
    "ExecuteTime": {
     "end_time": "2020-09-01T10:16:25.056850Z",
     "start_time": "2020-09-01T10:16:25.051166Z"
    }
   },
   "outputs": [
    {
     "data": {
      "text/plain": [
       "\n",
       "[5.5]\n",
       "<NDArray 1 @cpu(0)>"
      ]
     },
     "execution_count": 26,
     "metadata": {},
     "output_type": "execute_result"
    }
   ],
   "source": [
    "nd.mean(x)"
   ]
  },
  {
   "cell_type": "code",
   "execution_count": 27,
   "metadata": {
    "ExecuteTime": {
     "end_time": "2020-09-01T10:16:51.060037Z",
     "start_time": "2020-09-01T10:16:51.054089Z"
    }
   },
   "outputs": [
    {
     "data": {
      "text/plain": [
       "\n",
       "[10.]\n",
       "<NDArray 1 @cpu(0)>"
      ]
     },
     "execution_count": 27,
     "metadata": {},
     "output_type": "execute_result"
    }
   ],
   "source": [
    "x = nd.arange(4) + 1.0\n",
    "y = nd.ones(4)\n",
    "nd.dot(x, y)"
   ]
  },
  {
   "cell_type": "code",
   "execution_count": 28,
   "metadata": {
    "ExecuteTime": {
     "end_time": "2020-09-01T10:19:02.920252Z",
     "start_time": "2020-09-01T10:19:02.914337Z"
    }
   },
   "outputs": [
    {
     "data": {
      "text/plain": [
       "\n",
       "[5.477226]\n",
       "<NDArray 1 @cpu(0)>"
      ]
     },
     "execution_count": 28,
     "metadata": {},
     "output_type": "execute_result"
    }
   ],
   "source": [
    "# L2 norm\n",
    "nd.norm(x)"
   ]
  },
  {
   "cell_type": "code",
   "execution_count": 29,
   "metadata": {
    "ExecuteTime": {
     "end_time": "2020-09-01T10:19:12.596185Z",
     "start_time": "2020-09-01T10:19:12.586181Z"
    }
   },
   "outputs": [
    {
     "data": {
      "text/plain": [
       "\n",
       "[10.]\n",
       "<NDArray 1 @cpu(0)>"
      ]
     },
     "execution_count": 29,
     "metadata": {},
     "output_type": "execute_result"
    }
   ],
   "source": [
    "# L1 norm\n",
    "nd.sum(nd.abs(x))"
   ]
  },
  {
   "cell_type": "code",
   "execution_count": 34,
   "metadata": {
    "ExecuteTime": {
     "end_time": "2020-09-01T10:41:24.317471Z",
     "start_time": "2020-09-01T10:41:24.311699Z"
    }
   },
   "outputs": [
    {
     "data": {
      "text/plain": [
       "\n",
       "[[ 8.9913196e+21  4.5567423e-41  1.4437365e-38  0.0000000e+00]\n",
       " [-8.7874729e+14  2.7497668e+07  8.9879779e+21  4.5567423e-41]\n",
       " [ 1.4437365e-38  0.0000000e+00  1.6331850e-02 -4.3323472e+05]]\n",
       "<NDArray 3x4 @cpu(0)>"
      ]
     },
     "execution_count": 34,
     "metadata": {},
     "output_type": "execute_result"
    }
   ],
   "source": [
    "nd.empty((3,4)) # Will grab some part of memory and assign back. Not cleaning."
   ]
  },
  {
   "cell_type": "code",
   "execution_count": 35,
   "metadata": {
    "ExecuteTime": {
     "end_time": "2020-09-01T10:42:19.077324Z",
     "start_time": "2020-09-01T10:42:19.069798Z"
    }
   },
   "outputs": [
    {
     "data": {
      "text/plain": [
       "\n",
       "[[[0. 0. 0. 0.]\n",
       "  [0. 0. 0. 0.]\n",
       "  [0. 0. 0. 0.]]\n",
       "\n",
       " [[0. 0. 0. 0.]\n",
       "  [0. 0. 0. 0.]\n",
       "  [0. 0. 0. 0.]]]\n",
       "<NDArray 2x3x4 @cpu(0)>"
      ]
     },
     "execution_count": 35,
     "metadata": {},
     "output_type": "execute_result"
    }
   ],
   "source": [
    "nd.zeros((2,3,4))"
   ]
  },
  {
   "cell_type": "code",
   "execution_count": 37,
   "metadata": {
    "ExecuteTime": {
     "end_time": "2020-09-01T10:42:37.234768Z",
     "start_time": "2020-09-01T10:42:37.222138Z"
    }
   },
   "outputs": [
    {
     "data": {
      "text/plain": [
       "\n",
       "[[[1. 1. 1. 1. 1.]\n",
       "  [1. 1. 1. 1. 1.]\n",
       "  [1. 1. 1. 1. 1.]\n",
       "  [1. 1. 1. 1. 1.]]\n",
       "\n",
       " [[1. 1. 1. 1. 1.]\n",
       "  [1. 1. 1. 1. 1.]\n",
       "  [1. 1. 1. 1. 1.]\n",
       "  [1. 1. 1. 1. 1.]]\n",
       "\n",
       " [[1. 1. 1. 1. 1.]\n",
       "  [1. 1. 1. 1. 1.]\n",
       "  [1. 1. 1. 1. 1.]\n",
       "  [1. 1. 1. 1. 1.]]]\n",
       "<NDArray 3x4x5 @cpu(0)>"
      ]
     },
     "execution_count": 37,
     "metadata": {},
     "output_type": "execute_result"
    }
   ],
   "source": [
    "nd.ones((3,4,5))"
   ]
  },
  {
   "cell_type": "code",
   "execution_count": 39,
   "metadata": {
    "ExecuteTime": {
     "end_time": "2020-09-01T10:43:29.215691Z",
     "start_time": "2020-09-01T10:43:29.209274Z"
    }
   },
   "outputs": [
    {
     "data": {
      "text/plain": [
       "\n",
       "[[1. 2. 3.]\n",
       " [2. 3. 4.]\n",
       " [3. 4. 5.]]\n",
       "<NDArray 3x3 @cpu(0)>"
      ]
     },
     "execution_count": 39,
     "metadata": {},
     "output_type": "execute_result"
    }
   ],
   "source": [
    "nd.array([[1,2,3],[2,3,4],[3,4,5]])"
   ]
  },
  {
   "cell_type": "code",
   "execution_count": 53,
   "metadata": {
    "ExecuteTime": {
     "end_time": "2020-09-01T10:45:28.149705Z",
     "start_time": "2020-09-01T10:45:28.143619Z"
    }
   },
   "outputs": [
    {
     "data": {
      "text/plain": [
       "\n",
       "[0.00123111]\n",
       "<NDArray 1 @cpu(0)>"
      ]
     },
     "execution_count": 53,
     "metadata": {},
     "output_type": "execute_result"
    }
   ],
   "source": [
    "rarray = nd.random.normal(0, 1, shape=(100,100))\n",
    "nd.mean(rarray)"
   ]
  },
  {
   "cell_type": "code",
   "execution_count": 54,
   "metadata": {
    "ExecuteTime": {
     "end_time": "2020-09-01T10:45:37.306661Z",
     "start_time": "2020-09-01T10:45:37.300848Z"
    }
   },
   "outputs": [
    {
     "data": {
      "text/plain": [
       "\n",
       "[[-1.2106425  -1.024502   -1.5847118  ...  1.2321575  -1.4030455\n",
       "   0.70266616]\n",
       " [-0.08494543 -0.81021076  0.75389177 ... -0.80285645 -1.8379554\n",
       "  -0.24725795]\n",
       " [ 0.62455493  1.668636   -0.10974155 ...  1.0206766   0.03574003\n",
       "   1.8067027 ]\n",
       " ...\n",
       " [ 0.06561311  1.7734725  -1.5847464  ...  1.0460557  -0.5302033\n",
       "   0.18293837]\n",
       " [ 1.7936301   0.08462477 -0.58066535 ...  0.3258385  -1.832737\n",
       "  -2.0320733 ]\n",
       " [-0.57903296 -1.6637332  -1.2882146  ...  1.2612616  -0.5646808\n",
       "   1.1529359 ]]\n",
       "<NDArray 100x100 @cpu(0)>"
      ]
     },
     "execution_count": 54,
     "metadata": {},
     "output_type": "execute_result"
    }
   ],
   "source": [
    "rarray"
   ]
  },
  {
   "cell_type": "code",
   "execution_count": 64,
   "metadata": {
    "ExecuteTime": {
     "end_time": "2020-09-01T11:55:26.626042Z",
     "start_time": "2020-09-01T11:55:26.620501Z"
    }
   },
   "outputs": [],
   "source": [
    "x = nd.array([1,2,3,4])\n",
    "y = nd.ones_like(x) * 2"
   ]
  },
  {
   "cell_type": "code",
   "execution_count": 65,
   "metadata": {
    "ExecuteTime": {
     "end_time": "2020-09-01T11:55:27.747611Z",
     "start_time": "2020-09-01T11:55:27.739249Z"
    }
   },
   "outputs": [
    {
     "data": {
      "text/plain": [
       "\n",
       "[1. 2. 3. 4.]\n",
       "<NDArray 4 @cpu(0)>"
      ]
     },
     "execution_count": 65,
     "metadata": {},
     "output_type": "execute_result"
    }
   ],
   "source": [
    "x"
   ]
  },
  {
   "cell_type": "code",
   "execution_count": 66,
   "metadata": {
    "ExecuteTime": {
     "end_time": "2020-09-01T11:55:27.923946Z",
     "start_time": "2020-09-01T11:55:27.918085Z"
    }
   },
   "outputs": [
    {
     "data": {
      "text/plain": [
       "\n",
       "[2. 2. 2. 2.]\n",
       "<NDArray 4 @cpu(0)>"
      ]
     },
     "execution_count": 66,
     "metadata": {},
     "output_type": "execute_result"
    }
   ],
   "source": [
    "y"
   ]
  },
  {
   "cell_type": "code",
   "execution_count": 58,
   "metadata": {
    "ExecuteTime": {
     "end_time": "2020-09-01T10:47:27.749775Z",
     "start_time": "2020-09-01T10:47:27.739407Z"
    }
   },
   "outputs": [
    {
     "data": {
      "text/plain": [
       "\n",
       "[ 2.7182817  7.389056  20.085537  54.59815  ]\n",
       "<NDArray 4 @cpu(0)>"
      ]
     },
     "execution_count": 58,
     "metadata": {},
     "output_type": "execute_result"
    }
   ],
   "source": [
    "x.exp()"
   ]
  },
  {
   "cell_type": "code",
   "execution_count": 59,
   "metadata": {
    "ExecuteTime": {
     "end_time": "2020-09-01T10:51:16.308539Z",
     "start_time": "2020-09-01T10:51:16.302598Z"
    }
   },
   "outputs": [
    {
     "data": {
      "text/plain": [
       "\n",
       "[1. 2. 3. 4. 2. 2. 2. 2.]\n",
       "<NDArray 8 @cpu(0)>"
      ]
     },
     "execution_count": 59,
     "metadata": {},
     "output_type": "execute_result"
    }
   ],
   "source": [
    "nd.concat(x, y, dim=0) # or dim=1"
   ]
  },
  {
   "cell_type": "code",
   "execution_count": 62,
   "metadata": {
    "ExecuteTime": {
     "end_time": "2020-09-01T10:51:33.829538Z",
     "start_time": "2020-09-01T10:51:33.824191Z"
    }
   },
   "outputs": [
    {
     "data": {
      "text/plain": [
       "5.477226"
      ]
     },
     "execution_count": 62,
     "metadata": {},
     "output_type": "execute_result"
    }
   ],
   "source": [
    "x.norm().asscalar()"
   ]
  },
  {
   "cell_type": "code",
   "execution_count": 63,
   "metadata": {
    "ExecuteTime": {
     "end_time": "2020-09-01T11:54:23.166157Z",
     "start_time": "2020-09-01T11:54:23.160852Z"
    }
   },
   "outputs": [],
   "source": [
    "import numpy as np"
   ]
  },
  {
   "cell_type": "code",
   "execution_count": 67,
   "metadata": {
    "ExecuteTime": {
     "end_time": "2020-09-01T11:55:30.212265Z",
     "start_time": "2020-09-01T11:55:30.206009Z"
    }
   },
   "outputs": [
    {
     "name": "stdout",
     "output_type": "stream",
     "text": [
      "<class 'numpy.ndarray'>\n",
      "<class 'mxnet.ndarray.ndarray.NDArray'>\n"
     ]
    }
   ],
   "source": [
    "a = x.asnumpy()\n",
    "print(type(a))\n",
    "b = nd.array(a)\n",
    "print(type(b))"
   ]
  },
  {
   "cell_type": "code",
   "execution_count": null,
   "metadata": {},
   "outputs": [],
   "source": []
  }
 ],
 "metadata": {
  "kernelspec": {
   "display_name": "Python 3",
   "language": "python",
   "name": "python3"
  },
  "language_info": {
   "codemirror_mode": {
    "name": "ipython",
    "version": 3
   },
   "file_extension": ".py",
   "mimetype": "text/x-python",
   "name": "python",
   "nbconvert_exporter": "python",
   "pygments_lexer": "ipython3",
   "version": "3.6.9"
  }
 },
 "nbformat": 4,
 "nbformat_minor": 4
}
