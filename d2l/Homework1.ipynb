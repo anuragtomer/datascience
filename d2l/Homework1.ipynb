{
 "cells": [
  {
   "cell_type": "code",
   "execution_count": 17,
   "metadata": {
    "ExecuteTime": {
     "end_time": "2020-09-01T12:08:04.473041Z",
     "start_time": "2020-09-01T12:08:04.467084Z"
    }
   },
   "outputs": [],
   "source": [
    "from mxnet import ndarray as nd\n",
    "import mxnet as mx\n",
    "import numpy as np\n",
    "import time"
   ]
  },
  {
   "cell_type": "code",
   "execution_count": 18,
   "metadata": {
    "ExecuteTime": {
     "end_time": "2020-09-01T12:08:05.911487Z",
     "start_time": "2020-09-01T12:08:05.904451Z"
    }
   },
   "outputs": [],
   "source": [
    "A = nd.random.normal(0, 1, shape=(4096,4096))"
   ]
  },
  {
   "cell_type": "code",
   "execution_count": 19,
   "metadata": {
    "ExecuteTime": {
     "end_time": "2020-09-01T12:08:06.066100Z",
     "start_time": "2020-09-01T12:08:06.061151Z"
    }
   },
   "outputs": [],
   "source": [
    "B = nd.random.normal(0, 1, shape=(4096, 4096))"
   ]
  },
  {
   "cell_type": "markdown",
   "metadata": {},
   "source": [
    "Experiment to understand the time difference in way same computation is done in different ways."
   ]
  },
  {
   "cell_type": "code",
   "execution_count": 26,
   "metadata": {
    "ExecuteTime": {
     "end_time": "2020-09-01T15:05:47.555526Z",
     "start_time": "2020-09-01T15:05:47.204464Z"
    }
   },
   "outputs": [
    {
     "name": "stdout",
     "output_type": "stream",
     "text": [
      "0.3460531234741211\n"
     ]
    }
   ],
   "source": [
    "tic = time.time()\n",
    "C1 = nd.dot(A, B)\n",
    "C1.wait_to_read()\n",
    "print(time.time() - tic)"
   ]
  },
  {
   "cell_type": "code",
   "execution_count": 27,
   "metadata": {
    "ExecuteTime": {
     "end_time": "2020-09-01T15:05:47.692856Z",
     "start_time": "2020-09-01T15:05:47.685448Z"
    }
   },
   "outputs": [
    {
     "data": {
      "text/plain": [
       "(4096, 4096)"
      ]
     },
     "execution_count": 27,
     "metadata": {},
     "output_type": "execute_result"
    }
   ],
   "source": [
    "C1.shape"
   ]
  },
  {
   "cell_type": "code",
   "execution_count": 24,
   "metadata": {
    "ExecuteTime": {
     "end_time": "2020-09-01T12:10:34.673001Z",
     "start_time": "2020-09-01T12:10:11.444997Z"
    }
   },
   "outputs": [
    {
     "name": "stdout",
     "output_type": "stream",
     "text": [
      "23.220058917999268\n"
     ]
    }
   ],
   "source": [
    "C2 = nd.empty((4096,4096))\n",
    "tic = time.time()\n",
    "for i in range(4096):\n",
    "    C2[:,i] = nd.dot(A, B[:,i])\n",
    "C2.wait_to_read()\n",
    "print(time.time() - tic)"
   ]
  },
  {
   "cell_type": "code",
   "execution_count": 25,
   "metadata": {
    "ExecuteTime": {
     "end_time": "2020-09-01T14:01:33.539402Z",
     "start_time": "2020-09-01T12:11:46.226971Z"
    }
   },
   "outputs": [
    {
     "name": "stdout",
     "output_type": "stream",
     "text": [
      "6587.303359031677\n"
     ]
    }
   ],
   "source": [
    "C3 = nd.empty((4096, 4096))\n",
    "tic = time.time()\n",
    "for i in range(4096):\n",
    "    for  j in range(4096):\n",
    "        C3[i,j] = nd.dot(A[i, :], B[:,j])\n",
    "C3.wait_to_read()\n",
    "print(time.time() - tic)"
   ]
  },
  {
   "cell_type": "code",
   "execution_count": null,
   "metadata": {},
   "outputs": [],
   "source": []
  }
 ],
 "metadata": {
  "kernelspec": {
   "display_name": "Python 3",
   "language": "python",
   "name": "python3"
  },
  "language_info": {
   "codemirror_mode": {
    "name": "ipython",
    "version": 3
   },
   "file_extension": ".py",
   "mimetype": "text/x-python",
   "name": "python",
   "nbconvert_exporter": "python",
   "pygments_lexer": "ipython3",
   "version": "3.6.9"
  }
 },
 "nbformat": 4,
 "nbformat_minor": 4
}
