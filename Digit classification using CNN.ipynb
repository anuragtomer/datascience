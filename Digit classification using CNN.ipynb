{
 "cells": [
  {
   "cell_type": "code",
   "execution_count": 1,
   "metadata": {
    "ExecuteTime": {
     "end_time": "2020-08-14T08:12:38.445937Z",
     "start_time": "2020-08-14T08:12:37.279170Z"
    }
   },
   "outputs": [],
   "source": [
    "import tensorflow as tf\n",
    "import numpy as np\n",
    "np.set_printoptions(suppress=True)\n",
    "import matplotlib.pyplot as plt"
   ]
  },
  {
   "cell_type": "code",
   "execution_count": 2,
   "metadata": {
    "ExecuteTime": {
     "end_time": "2020-08-14T08:12:38.454702Z",
     "start_time": "2020-08-14T08:12:38.447151Z"
    }
   },
   "outputs": [],
   "source": [
    "from tensorflow.keras import Sequential\n",
    "from tensorflow.keras.layers import Dense, Conv2D, MaxPooling2D, Flatten, Reshape"
   ]
  },
  {
   "cell_type": "code",
   "execution_count": 3,
   "metadata": {
    "ExecuteTime": {
     "end_time": "2020-08-14T08:12:38.467887Z",
     "start_time": "2020-08-14T08:12:38.455478Z"
    }
   },
   "outputs": [],
   "source": [
    "mnist = tf.keras.datasets.mnist"
   ]
  },
  {
   "cell_type": "code",
   "execution_count": 4,
   "metadata": {
    "ExecuteTime": {
     "end_time": "2020-08-14T08:12:38.729247Z",
     "start_time": "2020-08-14T08:12:38.468926Z"
    }
   },
   "outputs": [],
   "source": [
    "(x_train, y_train), (x_test, y_test) = mnist.load_data()\n",
    "x_train, x_test = x_train/255., x_test/255.\n",
    "validation_data = x_test, y_test"
   ]
  },
  {
   "cell_type": "code",
   "execution_count": 5,
   "metadata": {
    "ExecuteTime": {
     "end_time": "2020-08-14T08:12:38.834608Z",
     "start_time": "2020-08-14T08:12:38.730310Z"
    }
   },
   "outputs": [
    {
     "data": {
      "image/png": "[encoded data removed]",
      "text/plain": [
       "<Figure size 432x288 with 1 Axes>"
      ]
     },
     "metadata": {
      "needs_background": "light"
     },
     "output_type": "display_data"
    }
   ],
   "source": [
    "image = x_train[2]\n",
    "fig = plt.figure\n",
    "plt.imshow(image, cmap='gray')\n",
    "plt.show()"
   ]
  },
  {
   "cell_type": "code",
   "execution_count": 6,
   "metadata": {
    "ExecuteTime": {
     "end_time": "2020-08-14T08:12:38.838129Z",
     "start_time": "2020-08-14T08:12:38.835487Z"
    }
   },
   "outputs": [
    {
     "data": {
      "text/plain": [
       "(60000, 28, 28)"
      ]
     },
     "execution_count": 6,
     "metadata": {},
     "output_type": "execute_result"
    }
   ],
   "source": [
    "x_train.shape"
   ]
  },
  {
   "cell_type": "code",
   "execution_count": 7,
   "metadata": {
    "ExecuteTime": {
     "end_time": "2020-08-14T08:18:13.078827Z",
     "start_time": "2020-08-14T08:12:38.839486Z"
    }
   },
   "outputs": [
    {
     "name": "stdout",
     "output_type": "stream",
     "text": [
      "Train on 60000 samples, validate on 10000 samples\n",
      "Epoch 1/10\n",
      "60000/60000 [==============================] - 33s 557us/sample - loss: 0.4524 - accuracy: 0.8788 - val_loss: 0.2422 - val_accuracy: 0.9277\n",
      "Epoch 2/10\n",
      "60000/60000 [==============================] - 33s 542us/sample - loss: 0.2160 - accuracy: 0.9367 - val_loss: 0.1618 - val_accuracy: 0.9530\n",
      "Epoch 3/10\n",
      "60000/60000 [==============================] - 32s 536us/sample - loss: 0.1626 - accuracy: 0.9516 - val_loss: 0.1492 - val_accuracy: 0.9560\n",
      "Epoch 4/10\n",
      "60000/60000 [==============================] - 35s 577us/sample - loss: 0.1313 - accuracy: 0.9612 - val_loss: 0.1155 - val_accuracy: 0.9644\n",
      "Epoch 5/10\n",
      "60000/60000 [==============================] - 33s 549us/sample - loss: 0.1113 - accuracy: 0.9667 - val_loss: 0.1158 - val_accuracy: 0.9639\n",
      "Epoch 6/10\n",
      "60000/60000 [==============================] - 32s 536us/sample - loss: 0.0968 - accuracy: 0.9710 - val_loss: 0.0932 - val_accuracy: 0.9714\n",
      "Epoch 7/10\n",
      "60000/60000 [==============================] - 33s 550us/sample - loss: 0.0861 - accuracy: 0.9744 - val_loss: 0.0856 - val_accuracy: 0.9740\n",
      "Epoch 8/10\n",
      "60000/60000 [==============================] - 33s 555us/sample - loss: 0.0773 - accuracy: 0.9766 - val_loss: 0.0764 - val_accuracy: 0.9774\n",
      "Epoch 9/10\n",
      "60000/60000 [==============================] - 33s 545us/sample - loss: 0.0706 - accuracy: 0.9790 - val_loss: 0.0689 - val_accuracy: 0.9778\n",
      "Epoch 10/10\n",
      "60000/60000 [==============================] - 37s 619us/sample - loss: 0.0640 - accuracy: 0.9812 - val_loss: 0.0660 - val_accuracy: 0.9804\n"
     ]
    },
    {
     "data": {
      "text/plain": [
       "<tensorflow.python.keras.callbacks.History at 0x7ff4d7d1a7d0>"
      ]
     },
     "execution_count": 7,
     "metadata": {},
     "output_type": "execute_result"
    }
   ],
   "source": [
    "model = Sequential([Reshape((28, 28, 1)),\n",
    "                    Conv2D(filters=64,\n",
    "                           kernel_size=(3,3),\n",
    "                           activation='relu'),\n",
    "                    MaxPooling2D(pool_size=(2, 2)),\n",
    "                    Flatten(),\n",
    "                    Dense(128, activation='relu'),\n",
    "                    Dense(10, activation='softmax')\n",
    "                   ])\n",
    "model.compile(optimizer='sgd',\n",
    "             loss = 'sparse_categorical_crossentropy',\n",
    "             metrics = ['accuracy',])\n",
    "model.fit(x = x_train,\n",
    "          y = y_train,\n",
    "          epochs = 10,\n",
    "          validation_data = validation_data)"
   ]
  },
  {
   "cell_type": "code",
   "execution_count": 8,
   "metadata": {
    "ExecuteTime": {
     "end_time": "2020-08-14T08:18:17.639847Z",
     "start_time": "2020-08-14T08:18:13.080309Z"
    }
   },
   "outputs": [
    {
     "name": "stdout",
     "output_type": "stream",
     "text": [
      "10000/10000 [==============================] - 2s 220us/sample - loss: 0.0660 - accuracy: 0.9804\n"
     ]
    },
    {
     "data": {
      "image/png": "[encoded data removed]",
      "text/plain": [
       "<Figure size 432x288 with 1 Axes>"
      ]
     },
     "metadata": {
      "needs_background": "light"
     },
     "output_type": "display_data"
    },
    {
     "name": "stdout",
     "output_type": "stream",
     "text": [
      "Prediction: 7\n"
     ]
    },
    {
     "data": {
      "image/png": "[encoded data removed]",
      "text/plain": [
       "<Figure size 432x288 with 1 Axes>"
      ]
     },
     "metadata": {
      "needs_background": "light"
     },
     "output_type": "display_data"
    },
    {
     "name": "stdout",
     "output_type": "stream",
     "text": [
      "Prediction: 2\n"
     ]
    },
    {
     "data": {
      "image/png": "[encoded data removed]",
      "text/plain": [
       "<Figure size 432x288 with 1 Axes>"
      ]
     },
     "metadata": {
      "needs_background": "light"
     },
     "output_type": "display_data"
    },
    {
     "name": "stdout",
     "output_type": "stream",
     "text": [
      "Prediction: 1\n"
     ]
    },
    {
     "data": {
      "image/png": "[encoded data removed]",
      "text/plain": [
       "<Figure size 432x288 with 1 Axes>"
      ]
     },
     "metadata": {
      "needs_background": "light"
     },
     "output_type": "display_data"
    },
    {
     "name": "stdout",
     "output_type": "stream",
     "text": [
      "Prediction: 0\n"
     ]
    },
    {
     "data": {
      "image/png": "[encoded data removed]",
      "text/plain": [
       "<Figure size 432x288 with 1 Axes>"
      ]
     },
     "metadata": {
      "needs_background": "light"
     },
     "output_type": "display_data"
    },
    {
     "name": "stdout",
     "output_type": "stream",
     "text": [
      "Prediction: 4\n"
     ]
    }
   ],
   "source": [
    "model.evaluate(x_test, y_test)\n",
    "predictions = model.predict(x_test)\n",
    "for i in range(5):\n",
    "    image = x_test[i];\n",
    "    fig = plt.figure\n",
    "    plt.imshow(image, cmap='gray')\n",
    "    plt.show()\n",
    "    print('Prediction: '+ str(np.argmax(predictions[i])))\n"
   ]
  },
  {
   "cell_type": "code",
   "execution_count": 9,
   "metadata": {
    "ExecuteTime": {
     "end_time": "2020-08-14T08:18:18.040742Z",
     "start_time": "2020-08-14T08:18:17.640834Z"
    }
   },
   "outputs": [
    {
     "data": {
      "image/png": "[encoded data removed]",
      "text/plain": [
       "<Figure size 432x288 with 1 Axes>"
      ]
     },
     "metadata": {
      "needs_background": "light"
     },
     "output_type": "display_data"
    },
    {
     "name": "stdout",
     "output_type": "stream",
     "text": [
      "Actual: 4 but Prediction: 6\n"
     ]
    },
    {
     "data": {
      "image/png": "[encoded data removed]",
      "text/plain": [
       "<Figure size 432x288 with 1 Axes>"
      ]
     },
     "metadata": {
      "needs_background": "light"
     },
     "output_type": "display_data"
    },
    {
     "name": "stdout",
     "output_type": "stream",
     "text": [
      "Actual: 6 but Prediction: 0\n"
     ]
    },
    {
     "data": {
      "image/png": "[encoded data removed]",
      "text/plain": [
       "<Figure size 432x288 with 1 Axes>"
      ]
     },
     "metadata": {
      "needs_background": "light"
     },
     "output_type": "display_data"
    },
    {
     "name": "stdout",
     "output_type": "stream",
     "text": [
      "Actual: 2 but Prediction: 7\n"
     ]
    },
    {
     "data": {
      "image/png": "[encoded data removed]",
      "text/plain": [
       "<Figure size 432x288 with 1 Axes>"
      ]
     },
     "metadata": {
      "needs_background": "light"
     },
     "output_type": "display_data"
    },
    {
     "name": "stdout",
     "output_type": "stream",
     "text": [
      "Actual: 3 but Prediction: 7\n"
     ]
    },
    {
     "data": {
      "image/png": "[encoded data removed]",
      "text/plain": [
       "<Figure size 432x288 with 1 Axes>"
      ]
     },
     "metadata": {
      "needs_background": "light"
     },
     "output_type": "display_data"
    },
    {
     "name": "stdout",
     "output_type": "stream",
     "text": [
      "Actual: 6 but Prediction: 0\n"
     ]
    }
   ],
   "source": [
    "count = 0\n",
    "for i in range(len(y_test)):\n",
    "    if (y_test[i] != np.argmax(predictions[i])):\n",
    "        image = x_test[i];\n",
    "        fig = plt.figure\n",
    "        plt.imshow(image, cmap='gray')\n",
    "        plt.show()\n",
    "        print('Actual: ' + str(y_test[i]) + ' but Prediction: '+ str(np.argmax(predictions[i])))\n",
    "        count += 1\n",
    "    if count == 5:\n",
    "        break\n"
   ]
  },
  {
   "cell_type": "code",
   "execution_count": 10,
   "metadata": {
    "ExecuteTime": {
     "end_time": "2020-08-14T08:18:18.089161Z",
     "start_time": "2020-08-14T08:18:18.041735Z"
    }
   },
   "outputs": [
    {
     "name": "stdout",
     "output_type": "stream",
     "text": [
      "Total:  10000 , mismatches: 196\n"
     ]
    }
   ],
   "source": [
    "count = 0\n",
    "for i in range(len(y_test)):\n",
    "    if (y_test[i] != np.argmax(predictions[i])):\n",
    "        count += 1\n",
    "print(\"Total: \", str(len(y_test)), \", mismatches:\", str(count))\n"
   ]
  },
  {
   "cell_type": "code",
   "execution_count": null,
   "metadata": {},
   "outputs": [],
   "source": []
  }
 ],
 "metadata": {
  "kernelspec": {
   "display_name": "Python 3",
   "language": "python",
   "name": "python3"
  },
  "language_info": {
   "codemirror_mode": {
    "name": "ipython",
    "version": 3
   },
   "file_extension": ".py",
   "mimetype": "text/x-python",
   "name": "python",
   "nbconvert_exporter": "python",
   "pygments_lexer": "ipython3",
   "version": "3.7.7"
  }
 },
 "nbformat": 4,
 "nbformat_minor": 4
}
